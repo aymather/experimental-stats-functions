{
 "cells": [
  {
   "cell_type": "code",
   "execution_count": 1,
   "metadata": {},
   "outputs": [],
   "source": [
    "import math\n",
    "import statistics"
   ]
  },
  {
   "cell_type": "code",
   "execution_count": 41,
   "metadata": {},
   "outputs": [],
   "source": [
    "# Sample data to measure the effect of caffine on muscle metabolism\n",
    "placebo = [\n",
    "    105,\n",
    "    119,\n",
    "    100,\n",
    "    97,\n",
    "    96,\n",
    "    101,\n",
    "    94,\n",
    "    95,\n",
    "    98\n",
    "]\n",
    "\n",
    "caffine = [\n",
    "    96,\n",
    "    99,\n",
    "    94,\n",
    "    89,\n",
    "    96,\n",
    "    93,\n",
    "    88,\n",
    "    105,\n",
    "    88\n",
    "]"
   ]
  },
  {
   "cell_type": "code",
   "execution_count": null,
   "metadata": {},
   "outputs": [],
   "source": []
  },
  {
   "cell_type": "code",
   "execution_count": 38,
   "metadata": {},
   "outputs": [],
   "source": [
    "# Functions\n",
    "\n",
    "# Calculate the mean value of an array\n",
    "def mean(array):\n",
    "    \"\"\"\n",
    "    Standard mean calculation by dividing the sum of a sample\n",
    "    by the number of samples\n",
    "    \"\"\"\n",
    "    return (1/len(array)) * sum(array)\n",
    "\n",
    "# Calculate the variance of a sample\n",
    "def var(array):\n",
    "    \"\"\"\n",
    "    To get the variance, you need to sum the result of subtracting the mean from\n",
    "    each item in your sample and squaring it.\n",
    "    \n",
    "    v = E(x - M)^2\n",
    "    \"\"\"\n",
    "    m = mean(array)\n",
    "    return sum([math.pow(i - m, 2) for i in array])\n",
    "\n",
    "# Standard Deviation of Population Mean\n",
    "def sd_population(array):\n",
    "    \"\"\"\n",
    "    Calculates the standard deviation of a population.\n",
    "    Meaning, you have the entire sample, you are not estimating.\n",
    "    \n",
    "    Why do we square/square root back? https://www.mathsisfun.com/data/standard-deviation.html\n",
    "    \"\"\"\n",
    "    m = mean(array) # mean\n",
    "    N = len(array) # number of samples in population\n",
    "    s = var(array) # variance\n",
    "    return math.sqrt(s * (1 / N))\n",
    "\n",
    "# Standard Deviation of Sample Mean (Bessel's Correction)\n",
    "def sd_sample(array):\n",
    "    \"\"\"\n",
    "    The only difference between this function and sd_population is that in this function,\n",
    "    we divide by (n-1) rather than N. We do this to correct for the bias in the sample\n",
    "    which tends to bring the standard deviation down.\n",
    "    \n",
    "    This video explains the theory behind it well: https://www.youtube.com/watch?v=ANsVodOu1Tg\n",
    "    \"\"\"\n",
    "    m = mean(array) # sample mean\n",
    "    n = len(array) - 1 # corrected n\n",
    "    s = var(array) # variance\n",
    "    return math.sqrt(s * (1 / n))\n",
    "\n",
    "# Standard Error of the Mean\n",
    "def sem(array):\n",
    "    \"\"\"\n",
    "    The SEM is the distance between the population mean (the real mean) and\n",
    "    the sample mean (a subset of the population). Meaning that if the population mean is 10,\n",
    "    and the sample mean is 10.5, then the SEM is 0.5\n",
    "    \n",
    "    The SEM is inversely proportional to the sample population. The larger the sample, \n",
    "    the closer to the real mean the sample population will be. Meaning that as you \n",
    "    collect more data, your mean will get closer and closer to the true mean, and your\n",
    "    SEM will shrink closer to zero. Bigger sample = smaller SEM\n",
    "    \n",
    "    SEM is an estimate, NOT the actual distance between the population and sample means.\n",
    "    \n",
    "    Another way of saying it is, the degree to which the sample mean is likely to vary\n",
    "    from the true population mean.\n",
    "    \"\"\"\n",
    "    o = sd_sample(array) # SE (Standard Error)\n",
    "    n = len(array) # sample size\n",
    "    return o / math.sqrt(n)\n",
    "\n",
    "def variance_pooled(array_1, array_2):\n",
    "    \"\"\"\n",
    "    Calculates an estimator for the pooled variance of two difference samples.\n",
    "    \"\"\"\n",
    "    dof = len(array_1) + len(array_2) - 2 # Degrees of freedom\n",
    "    var_1 = var(array_1)\n",
    "    var_2 = var(array_2)\n",
    "    return (var_1 + var_2) / dof\n",
    "    \n",
    "\n",
    "# T-Test\n",
    "def ttest(array_1, array_2):\n",
    "    \"\"\"\n",
    "    Independent samples ttest. Compares the means of two independent samples\n",
    "    to give you a t value.\n",
    "    \"\"\"\n",
    "    m1 = mean(array_1)\n",
    "    m2 = mean(array_2)\n",
    "    s = variance_pooled(array_1, array_2)\n",
    "    n1 = len(array_1)\n",
    "    n2 = len(array_2)\n",
    "    return (m1 - m2) / math.sqrt((s / n1) + (s / n2))\n",
    "    "
   ]
  },
  {
   "cell_type": "code",
   "execution_count": 16,
   "metadata": {},
   "outputs": [
    {
     "name": "stdout",
     "output_type": "stream",
     "text": [
      "Placebo mean: 100.55555555555554\n",
      "Caffine mean: 94.22222222222221\n"
     ]
    }
   ],
   "source": [
    "print(\"Placebo mean: {}\".format(mean(placebo)))\n",
    "print(\"Caffine mean: {}\".format(mean(caffine)))"
   ]
  },
  {
   "cell_type": "code",
   "execution_count": 17,
   "metadata": {},
   "outputs": [
    {
     "name": "stdout",
     "output_type": "stream",
     "text": [
      "Placebo standard deviation corrected: 7.69920630830073\n",
      "Caffine standard deviation corrected: 5.6075346137535735\n"
     ]
    }
   ],
   "source": [
    "print(\"Placebo standard deviation corrected: {}\".format(sd_sample(placebo)))\n",
    "print(\"Caffine standard deviation corrected: {}\".format(sd_sample(caffine)))"
   ]
  },
  {
   "cell_type": "code",
   "execution_count": 18,
   "metadata": {},
   "outputs": [
    {
     "name": "stdout",
     "output_type": "stream",
     "text": [
      "2.56640210276691\n"
     ]
    }
   ],
   "source": [
    "print(sem(placebo))"
   ]
  },
  {
   "cell_type": "code",
   "execution_count": 49,
   "metadata": {},
   "outputs": [
    {
     "name": "stdout",
     "output_type": "stream",
     "text": [
      "45.3611111111111\n",
      "362.8888888888888\n"
     ]
    }
   ],
   "source": [
    "v_pooled = variance_pooled(placebo, caffine)\n",
    "print(v_pooled)\n",
    "print(mean([var(placebo), var(caffine)]))"
   ]
  },
  {
   "cell_type": "code",
   "execution_count": 39,
   "metadata": {},
   "outputs": [
    {
     "name": "stdout",
     "output_type": "stream",
     "text": [
      "1.994788065026537\n"
     ]
    }
   ],
   "source": [
    "print(ttest(placebo, caffine))"
   ]
  }
 ],
 "metadata": {
  "kernelspec": {
   "display_name": "Python 3",
   "language": "python",
   "name": "python3"
  },
  "language_info": {
   "codemirror_mode": {
    "name": "ipython",
    "version": 3
   },
   "file_extension": ".py",
   "mimetype": "text/x-python",
   "name": "python",
   "nbconvert_exporter": "python",
   "pygments_lexer": "ipython3",
   "version": "3.8.3"
  }
 },
 "nbformat": 4,
 "nbformat_minor": 4
}
