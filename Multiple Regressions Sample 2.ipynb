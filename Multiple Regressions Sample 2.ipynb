{
 "cells": [
  {
   "cell_type": "code",
   "execution_count": 1,
   "metadata": {},
   "outputs": [],
   "source": [
    "%matplotlib inline\n",
    "import pandas as pd\n",
    "import numpy as np\n",
    "import matplotlib.pyplot as plt\n",
    "import statsmodels.api as sm\n",
    "from statsmodels.stats.outliers_influence import variance_inflation_factor as vif\n",
    "from sklearn.linear_model import LinearRegression\n",
    "from sklearn.metrics import r2_score, mean_squared_error\n",
    "from sklearn import datasets\n",
    "import seaborn as sb\n",
    "plt.rcParams['figure.figsize'] = (5.0, 5.0)"
   ]
  },
  {
   "cell_type": "code",
   "execution_count": 2,
   "metadata": {
    "scrolled": true
   },
   "outputs": [
    {
     "name": "stdout",
     "output_type": "stream",
     "text": [
      ".. _diabetes_dataset:\n",
      "\n",
      "Diabetes dataset\n",
      "----------------\n",
      "\n",
      "Ten baseline variables, age, sex, body mass index, average blood\n",
      "pressure, and six blood serum measurements were obtained for each of n =\n",
      "442 diabetes patients, as well as the response of interest, a\n",
      "quantitative measure of disease progression one year after baseline.\n",
      "\n",
      "**Data Set Characteristics:**\n",
      "\n",
      "  :Number of Instances: 442\n",
      "\n",
      "  :Number of Attributes: First 10 columns are numeric predictive values\n",
      "\n",
      "  :Target: Column 11 is a quantitative measure of disease progression one year after baseline\n",
      "\n",
      "  :Attribute Information:\n",
      "      - age     age in years\n",
      "      - sex\n",
      "      - bmi     body mass index\n",
      "      - bp      average blood pressure\n",
      "      - s1      tc, T-Cells (a type of white blood cells)\n",
      "      - s2      ldl, low-density lipoproteins\n",
      "      - s3      hdl, high-density lipoproteins\n",
      "      - s4      tch, thyroid stimulating hormone\n",
      "      - s5      ltg, lamotrigine\n",
      "      - s6      glu, blood sugar level\n",
      "\n",
      "Note: Each of these 10 feature variables have been mean centered and scaled by the standard deviation times `n_samples` (i.e. the sum of squares of each column totals 1).\n",
      "\n",
      "Source URL:\n",
      "https://www4.stat.ncsu.edu/~boos/var.select/diabetes.html\n",
      "\n",
      "For more information see:\n",
      "Bradley Efron, Trevor Hastie, Iain Johnstone and Robert Tibshirani (2004) \"Least Angle Regression,\" Annals of Statistics (with discussion), 407-499.\n",
      "(https://web.stanford.edu/~hastie/Papers/LARS/LeastAngle_2002.pdf)\n"
     ]
    }
   ],
   "source": [
    "# Load diabetes dataset\n",
    "data = datasets.load_diabetes()\n",
    "print(data.DESCR) # Description"
   ]
  },
  {
   "cell_type": "code",
   "execution_count": 18,
   "metadata": {},
   "outputs": [],
   "source": [
    "# Functions to speed up analysis\n",
    "\n",
    "# Single Regression\n",
    "def SingleRegression(x, y):\n",
    "    print('Single Linear Regression')\n",
    "    \n",
    "    # Build model\n",
    "    model = LinearRegression().fit(x, y)\n",
    "\n",
    "    # Get predicted y values\n",
    "    yhat = model.intercept_ + (model.coef_[0] * x)\n",
    "    \n",
    "    # Get R Squared\n",
    "    r2 = r2_score(y, yhat)\n",
    "    \n",
    "    # Get mean squared error\n",
    "    mse = mean_squared_error(y, yhat)\n",
    "    \n",
    "    # Print Summary\n",
    "    print(\"Equation: y = {} + {} * xi\".format(model.intercept_[0], model.coef_[0][0]))\n",
    "    print(\"R Squared: {}%\".format(r2 * 100))\n",
    "    print(\"Mean Squared Error: {}\".format(mse))\n",
    "    \n",
    "    # Get stats\n",
    "    X = sm.add_constant(x)\n",
    "    results = sm.OLS(y, X).fit()\n",
    "    print(results.summary())\n",
    "    \n",
    "    # Plot\n",
    "    plt.scatter(x, y, color='blue', label='Samples')\n",
    "    plt.plot(x, yhat, color='red', label='Line of Regression')\n",
    "    plt.legend()\n",
    "    plt.show()\n",
    "    \n",
    "# Prepare and run data on a single field from our independent variables\n",
    "def RunTests(field):\n",
    "    X = x[field].values.reshape(-1, 1)\n",
    "\n",
    "    SingleRegression(X, y)\n",
    "    sb.histplot(X)\n",
    "    \n",
    "# Run VIF tests on a set of independent variables\n",
    "def vifs(ivars):\n",
    "    \n",
    "    # Get the score for each independent variable\n",
    "    vifs = [vif(X.values, i) for i in range(len(X.columns))]\n",
    "    \n",
    "    # Print our results & check for our general rules\n",
    "    print(\"VIF Scores:\")\n",
    "    vif_total = 0\n",
    "    exceeds_10 = False\n",
    "    for col, val in zip(X.columns, vifs):\n",
    "        \n",
    "        # Sum the vif scores\n",
    "        vif_total += val\n",
    "        \n",
    "        # Check if any values are greater than 10\n",
    "        if val > 10:\n",
    "            exceeds_10 = True\n",
    "            \n",
    "        # Print the score\n",
    "        print(\"{} = {}\".format(col, val))\n",
    "        \n",
    "    # Print our general rules\n",
    "    print(\"VIF Mean: {}\".format(vif_total / len(vifs)))\n",
    "    if exceeds_10:\n",
    "        print(\"There is at least 1 value that is greater than 10\")\n",
    "    else:\n",
    "        print(\"No values are greater than 10\")\n",
    "    \n",
    "# Run a Multiple Regression test\n",
    "def MultipleRegressions(x, y):\n",
    "    \n",
    "    # Build model\n",
    "    model = LinearRegression().fit(x, y)\n",
    "        \n",
    "    # Print a summary from statsmodels\n",
    "    X = sm.add_constant(x)\n",
    "    results = sm.OLS(y, X).fit()\n",
    "    print(results.summary())\n"
   ]
  },
  {
   "cell_type": "code",
   "execution_count": 4,
   "metadata": {
    "scrolled": false
   },
   "outputs": [
    {
     "data": {
      "text/html": [
       "<div>\n",
       "<style scoped>\n",
       "    .dataframe tbody tr th:only-of-type {\n",
       "        vertical-align: middle;\n",
       "    }\n",
       "\n",
       "    .dataframe tbody tr th {\n",
       "        vertical-align: top;\n",
       "    }\n",
       "\n",
       "    .dataframe thead th {\n",
       "        text-align: right;\n",
       "    }\n",
       "</style>\n",
       "<table border=\"1\" class=\"dataframe\">\n",
       "  <thead>\n",
       "    <tr style=\"text-align: right;\">\n",
       "      <th></th>\n",
       "      <th>age</th>\n",
       "      <th>sex</th>\n",
       "      <th>bmi</th>\n",
       "      <th>bp</th>\n",
       "      <th>tc</th>\n",
       "      <th>ldl</th>\n",
       "      <th>hdl</th>\n",
       "      <th>tch</th>\n",
       "      <th>ltg</th>\n",
       "      <th>glu</th>\n",
       "    </tr>\n",
       "  </thead>\n",
       "  <tbody>\n",
       "    <tr>\n",
       "      <th>0</th>\n",
       "      <td>0.038076</td>\n",
       "      <td>0.050680</td>\n",
       "      <td>0.061696</td>\n",
       "      <td>0.021872</td>\n",
       "      <td>-0.044223</td>\n",
       "      <td>-0.034821</td>\n",
       "      <td>-0.043401</td>\n",
       "      <td>-0.002592</td>\n",
       "      <td>0.019908</td>\n",
       "      <td>-0.017646</td>\n",
       "    </tr>\n",
       "    <tr>\n",
       "      <th>1</th>\n",
       "      <td>-0.001882</td>\n",
       "      <td>-0.044642</td>\n",
       "      <td>-0.051474</td>\n",
       "      <td>-0.026328</td>\n",
       "      <td>-0.008449</td>\n",
       "      <td>-0.019163</td>\n",
       "      <td>0.074412</td>\n",
       "      <td>-0.039493</td>\n",
       "      <td>-0.068330</td>\n",
       "      <td>-0.092204</td>\n",
       "    </tr>\n",
       "    <tr>\n",
       "      <th>2</th>\n",
       "      <td>0.085299</td>\n",
       "      <td>0.050680</td>\n",
       "      <td>0.044451</td>\n",
       "      <td>-0.005671</td>\n",
       "      <td>-0.045599</td>\n",
       "      <td>-0.034194</td>\n",
       "      <td>-0.032356</td>\n",
       "      <td>-0.002592</td>\n",
       "      <td>0.002864</td>\n",
       "      <td>-0.025930</td>\n",
       "    </tr>\n",
       "    <tr>\n",
       "      <th>3</th>\n",
       "      <td>-0.089063</td>\n",
       "      <td>-0.044642</td>\n",
       "      <td>-0.011595</td>\n",
       "      <td>-0.036656</td>\n",
       "      <td>0.012191</td>\n",
       "      <td>0.024991</td>\n",
       "      <td>-0.036038</td>\n",
       "      <td>0.034309</td>\n",
       "      <td>0.022692</td>\n",
       "      <td>-0.009362</td>\n",
       "    </tr>\n",
       "    <tr>\n",
       "      <th>4</th>\n",
       "      <td>0.005383</td>\n",
       "      <td>-0.044642</td>\n",
       "      <td>-0.036385</td>\n",
       "      <td>0.021872</td>\n",
       "      <td>0.003935</td>\n",
       "      <td>0.015596</td>\n",
       "      <td>0.008142</td>\n",
       "      <td>-0.002592</td>\n",
       "      <td>-0.031991</td>\n",
       "      <td>-0.046641</td>\n",
       "    </tr>\n",
       "  </tbody>\n",
       "</table>\n",
       "</div>"
      ],
      "text/plain": [
       "        age       sex       bmi        bp        tc       ldl       hdl  \\\n",
       "0  0.038076  0.050680  0.061696  0.021872 -0.044223 -0.034821 -0.043401   \n",
       "1 -0.001882 -0.044642 -0.051474 -0.026328 -0.008449 -0.019163  0.074412   \n",
       "2  0.085299  0.050680  0.044451 -0.005671 -0.045599 -0.034194 -0.032356   \n",
       "3 -0.089063 -0.044642 -0.011595 -0.036656  0.012191  0.024991 -0.036038   \n",
       "4  0.005383 -0.044642 -0.036385  0.021872  0.003935  0.015596  0.008142   \n",
       "\n",
       "        tch       ltg       glu  \n",
       "0 -0.002592  0.019908 -0.017646  \n",
       "1 -0.039493 -0.068330 -0.092204  \n",
       "2 -0.002592  0.002864 -0.025930  \n",
       "3  0.034309  0.022692 -0.009362  \n",
       "4 -0.002592 -0.031991 -0.046641  "
      ]
     },
     "execution_count": 4,
     "metadata": {},
     "output_type": "execute_result"
    }
   ],
   "source": [
    "\"\"\"\n",
    "\n",
    "First we need to check which independent variables are worth keeping in our dataset.\n",
    "\n",
    "So first let's create a dataframe and make it easy to extract our data and start\n",
    "creating models.\n",
    "\n",
    "\"\"\"\n",
    "\n",
    "# Organize our data\n",
    "x = data.data\n",
    "y = data.target.reshape(-1, 1)\n",
    "\n",
    "x = pd.DataFrame(x, columns=['age', 'sex', 'bmi', 'bp', 'tc', 'ldl', 'hdl', 'tch', 'ltg', 'glu'])\n",
    "x.head()"
   ]
  },
  {
   "cell_type": "code",
   "execution_count": 5,
   "metadata": {
    "scrolled": true
   },
   "outputs": [
    {
     "name": "stdout",
     "output_type": "stream",
     "text": [
      "Single Linear Regression\n",
      "Equation: y = 152.13348416289594 + 69.71535567841465 * xi\n",
      "R Squared: 0.18543357106460823%\n",
      "Mean Squared Error: 5918.888899586022\n",
      "                            OLS Regression Results                            \n",
      "==============================================================================\n",
      "Dep. Variable:                      y   R-squared:                       0.002\n",
      "Model:                            OLS   Adj. R-squared:                 -0.000\n",
      "Method:                 Least Squares   F-statistic:                    0.8174\n",
      "Date:                Wed, 07 Oct 2020   Prob (F-statistic):              0.366\n",
      "Time:                        09:24:21   Log-Likelihood:                -2546.8\n",
      "No. Observations:                 442   AIC:                             5098.\n",
      "Df Residuals:                     440   BIC:                             5106.\n",
      "Df Model:                           1                                         \n",
      "Covariance Type:            nonrobust                                         \n",
      "==============================================================================\n",
      "                 coef    std err          t      P>|t|      [0.025      0.975]\n",
      "------------------------------------------------------------------------------\n",
      "const        152.1335      3.668     41.479      0.000     144.925     159.342\n",
      "x1            69.7154     77.109      0.904      0.366     -81.832     221.263\n",
      "==============================================================================\n",
      "Omnibus:                       64.308   Durbin-Watson:                   1.908\n",
      "Prob(Omnibus):                  0.000   Jarque-Bera (JB):               28.530\n",
      "Skew:                           0.436   Prob(JB):                     6.38e-07\n",
      "Kurtosis:                       2.112   Cond. No.                         21.0\n",
      "==============================================================================\n",
      "\n",
      "Notes:\n",
      "[1] Standard Errors assume that the covariance matrix of the errors is correctly specified.\n"
     ]
    },
    {
     "data": {
      "image/png": "[encoded data removed]",
      "text/plain": [
       "<Figure size 360x360 with 1 Axes>"
      ]
     },
     "metadata": {
      "needs_background": "light"
     },
     "output_type": "display_data"
    },
    {
     "data": {
      "image/png": "[encoded data removed]",
      "text/plain": [
       "<Figure size 360x360 with 1 Axes>"
      ]
     },
     "metadata": {
      "needs_background": "light"
     },
     "output_type": "display_data"
    }
   ],
   "source": [
    "\"\"\"\n",
    "\n",
    "After looking at all our independent variables, we can say confidently that\n",
    "all of them have a significant correlation with our dependent variable except\n",
    "sex, which is laid out here. The p > 0.05 meaning that there is probably no\n",
    "real world correlation between sex and heart disease. So we're going to exclude\n",
    "this variable.\n",
    "\n",
    "\"\"\"\n",
    "\n",
    "RunTests('sex')"
   ]
  },
  {
   "cell_type": "code",
   "execution_count": 6,
   "metadata": {},
   "outputs": [],
   "source": [
    "# Remove sex from independent variables\n",
    "del x['sex']"
   ]
  },
  {
   "cell_type": "code",
   "execution_count": 13,
   "metadata": {},
   "outputs": [
    {
     "name": "stdout",
     "output_type": "stream",
     "text": [
      "VIF Scores:\n",
      "const = 0.9999999999999998\n",
      "age = 1.2047195466353064\n",
      "bmi = 1.4729024291856778\n",
      "bp = 1.4064317966319035\n",
      "ldl = 2.9257570632456793\n",
      "hdl = 3.615897578663044\n",
      "tch = 7.782854667938324\n",
      "ltg = 2.1469757762034343\n",
      "glu = 1.4764880119336896\n",
      "VIF Mean: 2.559114096715229\n",
      "No values are greater than 10\n"
     ]
    }
   ],
   "source": [
    "\"\"\"\n",
    "\n",
    "When we check for multicollinearity, tc and ldl seem to be the most problematic.\n",
    "Fire let's remove tc, and see what that does to our multicollinearity.\n",
    "\n",
    "\"\"\"\n",
    "\n",
    "# Check for multicollinearity\n",
    "vifs(x)"
   ]
  },
  {
   "cell_type": "code",
   "execution_count": 9,
   "metadata": {},
   "outputs": [],
   "source": [
    "# Lets start by removing just tc, and see what happens\n",
    "del x['tc']"
   ]
  },
  {
   "cell_type": "code",
   "execution_count": 14,
   "metadata": {},
   "outputs": [
    {
     "name": "stdout",
     "output_type": "stream",
     "text": [
      "VIF Scores:\n",
      "const = 0.9999999999999998\n",
      "age = 1.2047195466353064\n",
      "bmi = 1.4729024291856778\n",
      "bp = 1.4064317966319035\n",
      "ldl = 2.9257570632456793\n",
      "hdl = 3.615897578663044\n",
      "tch = 7.782854667938324\n",
      "ltg = 2.1469757762034343\n",
      "glu = 1.4764880119336896\n",
      "VIF Mean: 2.559114096715229\n",
      "No values are greater than 10\n"
     ]
    }
   ],
   "source": [
    "\"\"\"\n",
    "\n",
    "This seems a lot more reasonable. Remember that this is the general\n",
    "rule when it comes to VIF scores.\n",
    "\n",
    "VIF General Rule:\n",
    "    1. If the mean of the VIF values is above 5, you have multicollinearity.\n",
    "    2. If any VIF values exceed 10, that variable is causing multicollinearity.\n",
    "\n",
    "So now we should be good to run a multiple regression with these independent\n",
    "variables.\n",
    "\n",
    "\"\"\"\n",
    "\n",
    "# Rerun vif scores\n",
    "vifs(x)"
   ]
  },
  {
   "cell_type": "code",
   "execution_count": 20,
   "metadata": {},
   "outputs": [
    {
     "name": "stdout",
     "output_type": "stream",
     "text": [
      "                            OLS Regression Results                            \n",
      "==============================================================================\n",
      "Dep. Variable:                      y   R-squared:                       0.497\n",
      "Model:                            OLS   Adj. R-squared:                  0.488\n",
      "Method:                 Least Squares   F-statistic:                     53.54\n",
      "Date:                Wed, 07 Oct 2020   Prob (F-statistic):           4.68e-60\n",
      "Time:                        09:47:33   Log-Likelihood:                -2395.2\n",
      "No. Observations:                 442   AIC:                             4808.\n",
      "Df Residuals:                     433   BIC:                             4845.\n",
      "Df Model:                           8                                         \n",
      "Covariance Type:            nonrobust                                         \n",
      "==============================================================================\n",
      "                 coef    std err          t      P>|t|      [0.025      0.975]\n",
      "------------------------------------------------------------------------------\n",
      "const        152.1335      2.624     57.982      0.000     146.976     157.290\n",
      "age          -30.7959     60.546     -0.509      0.611    -149.797      88.206\n",
      "bmi          564.0980     66.947      8.426      0.000     432.516     695.680\n",
      "bp           272.9473     65.419      4.172      0.000     144.369     401.526\n",
      "ldl         -137.4608     94.355     -1.457      0.146    -322.911      47.990\n",
      "hdl         -178.4663    104.895     -1.701      0.090    -384.632      27.700\n",
      "tch           31.2035    153.892      0.203      0.839    -271.264     333.671\n",
      "ltg          495.2065     80.827      6.127      0.000     336.344     654.070\n",
      "glu           50.6687     67.029      0.756      0.450     -81.073     182.411\n",
      "==============================================================================\n",
      "Omnibus:                        6.614   Durbin-Watson:                   2.004\n",
      "Prob(Omnibus):                  0.037   Jarque-Bera (JB):                4.765\n",
      "Skew:                           0.122   Prob(JB):                       0.0923\n",
      "Kurtosis:                       2.554   Cond. No.                         75.2\n",
      "==============================================================================\n",
      "\n",
      "Notes:\n",
      "[1] Standard Errors assume that the covariance matrix of the errors is correctly specified.\n"
     ]
    }
   ],
   "source": [
    "\"\"\"\n",
    "\n",
    "It looks like we can only explain a little less than 50% of our variance,\n",
    "and that some of these independent variables don't make a whole lot of sense.\n",
    "\n",
    "For example, the coefficient for 'age' is negative. However, we know that \n",
    "risk of disease tends to get worse as you get older. Also, it's p value\n",
    "is no longer significant.\n",
    "\n",
    "Also, ldl, hdl, tch, and glu no longer seem to be significant.\n",
    "\n",
    "Let's first throw out age, because it's probably reasonable to assume that\n",
    "age can be correlated with many of these measures.\n",
    "\n",
    "\"\"\"\n",
    "\n",
    "# Run Multiple Regressions on our remaining independent variables\n",
    "MultipleRegressions(x, y)"
   ]
  },
  {
   "cell_type": "code",
   "execution_count": 21,
   "metadata": {},
   "outputs": [],
   "source": [
    "# Remove age\n",
    "del x['age']"
   ]
  },
  {
   "cell_type": "code",
   "execution_count": 23,
   "metadata": {},
   "outputs": [
    {
     "name": "stdout",
     "output_type": "stream",
     "text": [
      "                            OLS Regression Results                            \n",
      "==============================================================================\n",
      "Dep. Variable:                      y   R-squared:                       0.497\n",
      "Model:                            OLS   Adj. R-squared:                  0.489\n",
      "Method:                 Least Squares   F-statistic:                     61.26\n",
      "Date:                Wed, 07 Oct 2020   Prob (F-statistic):           6.53e-61\n",
      "Time:                        09:49:49   Log-Likelihood:                -2395.3\n",
      "No. Observations:                 442   AIC:                             4807.\n",
      "Df Residuals:                     434   BIC:                             4839.\n",
      "Df Model:                           7                                         \n",
      "Covariance Type:            nonrobust                                         \n",
      "==============================================================================\n",
      "                 coef    std err          t      P>|t|      [0.025      0.975]\n",
      "------------------------------------------------------------------------------\n",
      "const        152.1335      2.622     58.031      0.000     146.981     157.286\n",
      "bmi          564.7391     66.878      8.444      0.000     433.294     696.184\n",
      "bp           265.8548     63.861      4.163      0.000     140.339     391.370\n",
      "ldl         -141.6093     93.921     -1.508      0.132    -326.207      42.988\n",
      "hdl         -179.8327    104.771     -1.716      0.087    -385.754      26.088\n",
      "tch           32.4332    153.741      0.211      0.833    -269.737     334.603\n",
      "ltg          491.6112     80.449      6.111      0.000     333.493     649.729\n",
      "glu           45.8857     66.309      0.692      0.489     -84.441     176.213\n",
      "==============================================================================\n",
      "Omnibus:                        6.920   Durbin-Watson:                   2.005\n",
      "Prob(Omnibus):                  0.031   Jarque-Bera (JB):                5.009\n",
      "Skew:                           0.132   Prob(JB):                       0.0817\n",
      "Kurtosis:                       2.551   Cond. No.                         75.2\n",
      "==============================================================================\n",
      "\n",
      "Notes:\n",
      "[1] Standard Errors assume that the covariance matrix of the errors is correctly specified.\n"
     ]
    }
   ],
   "source": [
    "\"\"\"\n",
    "\n",
    "It looks like all that did was reduced the difference between the R Squared\n",
    "and the R Squared adjusted by 0.001\n",
    "\n",
    "That isn't that great of an improvement. So let's throw out tch next because\n",
    "it is the least significant variable still in our model\n",
    "\n",
    "\"\"\"\n",
    "\n",
    "# Re run the multiple regression\n",
    "MultipleRegressions(x, y)"
   ]
  },
  {
   "cell_type": "code",
   "execution_count": 24,
   "metadata": {},
   "outputs": [],
   "source": [
    "# Remove tch\n",
    "del x['tch']"
   ]
  },
  {
   "cell_type": "code",
   "execution_count": 26,
   "metadata": {},
   "outputs": [
    {
     "name": "stdout",
     "output_type": "stream",
     "text": [
      "                            OLS Regression Results                            \n",
      "==============================================================================\n",
      "Dep. Variable:                      y   R-squared:                       0.497\n",
      "Model:                            OLS   Adj. R-squared:                  0.490\n",
      "Method:                 Least Squares   F-statistic:                     71.62\n",
      "Date:                Wed, 07 Oct 2020   Prob (F-statistic):           7.54e-62\n",
      "Time:                        09:50:56   Log-Likelihood:                -2395.3\n",
      "No. Observations:                 442   AIC:                             4805.\n",
      "Df Residuals:                     435   BIC:                             4833.\n",
      "Df Model:                           6                                         \n",
      "Covariance Type:            nonrobust                                         \n",
      "==============================================================================\n",
      "                 coef    std err          t      P>|t|      [0.025      0.975]\n",
      "------------------------------------------------------------------------------\n",
      "const        152.1335      2.619     58.095      0.000     146.987     157.280\n",
      "bmi          563.8932     66.684      8.456      0.000     432.829     694.957\n",
      "bp           264.8180     63.602      4.164      0.000     139.813     389.823\n",
      "ldl         -126.2588     59.319     -2.128      0.034    -242.846      -9.671\n",
      "hdl         -197.6497     61.931     -3.191      0.002    -319.372     -75.928\n",
      "ltg          499.9603     69.964      7.146      0.000     362.451     637.470\n",
      "glu           46.9340     66.050      0.711      0.478     -82.883     176.751\n",
      "==============================================================================\n",
      "Omnibus:                        6.818   Durbin-Watson:                   2.006\n",
      "Prob(Omnibus):                  0.033   Jarque-Bera (JB):                4.933\n",
      "Skew:                           0.130   Prob(JB):                       0.0849\n",
      "Kurtosis:                       2.552   Cond. No.                         29.9\n",
      "==============================================================================\n",
      "\n",
      "Notes:\n",
      "[1] Standard Errors assume that the covariance matrix of the errors is correctly specified.\n"
     ]
    }
   ],
   "source": [
    "\"\"\"\n",
    "\n",
    "Another tiny improvement between the R Squared and the R Squared Adjusted.\n",
    "\n",
    "Glu seems to be the last variable that is still not significant, so let's\n",
    "take that out as well.\n",
    "\n",
    "\"\"\"\n",
    "\n",
    "# Re run the multiple regression\n",
    "MultipleRegressions(x, y)"
   ]
  },
  {
   "cell_type": "code",
   "execution_count": 27,
   "metadata": {},
   "outputs": [],
   "source": [
    "# Remove glu\n",
    "del x['glu']"
   ]
  },
  {
   "cell_type": "code",
   "execution_count": 29,
   "metadata": {},
   "outputs": [
    {
     "name": "stdout",
     "output_type": "stream",
     "text": [
      "                            OLS Regression Results                            \n",
      "==============================================================================\n",
      "Dep. Variable:                      y   R-squared:                       0.496\n",
      "Model:                            OLS   Adj. R-squared:                  0.491\n",
      "Method:                 Least Squares   F-statistic:                     85.94\n",
      "Date:                Wed, 07 Oct 2020   Prob (F-statistic):           9.91e-63\n",
      "Time:                        09:55:05   Log-Likelihood:                -2395.6\n",
      "No. Observations:                 442   AIC:                             4803.\n",
      "Df Residuals:                     436   BIC:                             4828.\n",
      "Df Model:                           5                                         \n",
      "Covariance Type:            nonrobust                                         \n",
      "==============================================================================\n",
      "                 coef    std err          t      P>|t|      [0.025      0.975]\n",
      "------------------------------------------------------------------------------\n",
      "const        152.1335      2.617     58.128      0.000     146.990     157.277\n",
      "bmi          570.4551     66.004      8.643      0.000     440.729     700.182\n",
      "bp           274.1581     62.193      4.408      0.000     151.922     396.394\n",
      "ldl         -120.5165     58.733     -2.052      0.041    -235.951      -5.082\n",
      "hdl         -200.3946     61.776     -3.244      0.001    -321.810     -78.979\n",
      "ltg          512.2442     67.756      7.560      0.000     379.075     645.413\n",
      "==============================================================================\n",
      "Omnibus:                        6.192   Durbin-Watson:                   2.012\n",
      "Prob(Omnibus):                  0.045   Jarque-Bera (JB):                4.653\n",
      "Skew:                           0.132   Prob(JB):                       0.0976\n",
      "Kurtosis:                       2.573   Cond. No.                         29.5\n",
      "==============================================================================\n",
      "\n",
      "Notes:\n",
      "[1] Standard Errors assume that the covariance matrix of the errors is correctly specified.\n"
     ]
    }
   ],
   "source": [
    "\"\"\"\n",
    "\n",
    "We're still only making micro adjustments in our R Squared and R Squared\n",
    "Adjusted.\n",
    "\n",
    "Just for the sake of exploration, let's remove ldl because it isn't \"as significant\"\n",
    "as our other variables, although it is still significant.\n",
    "\n",
    "\"\"\"\n",
    "\n",
    "# Re run the multiple regression\n",
    "MultipleRegressions(x, y)"
   ]
  },
  {
   "cell_type": "code",
   "execution_count": 30,
   "metadata": {},
   "outputs": [],
   "source": [
    "# Remove ldl\n",
    "del x['ldl']"
   ]
  },
  {
   "cell_type": "code",
   "execution_count": 32,
   "metadata": {},
   "outputs": [
    {
     "name": "stdout",
     "output_type": "stream",
     "text": [
      "                            OLS Regression Results                            \n",
      "==============================================================================\n",
      "Dep. Variable:                      y   R-squared:                       0.491\n",
      "Model:                            OLS   Adj. R-squared:                  0.487\n",
      "Method:                 Least Squares   F-statistic:                     105.6\n",
      "Date:                Wed, 07 Oct 2020   Prob (F-statistic):           7.24e-63\n",
      "Time:                        09:56:21   Log-Likelihood:                -2397.7\n",
      "No. Observations:                 442   AIC:                             4805.\n",
      "Df Residuals:                     437   BIC:                             4826.\n",
      "Df Model:                           4                                         \n",
      "Covariance Type:            nonrobust                                         \n",
      "==============================================================================\n",
      "                 coef    std err          t      P>|t|      [0.025      0.975]\n",
      "------------------------------------------------------------------------------\n",
      "const        152.1335      2.627     57.916      0.000     146.971     157.296\n",
      "bmi          555.2795     65.829      8.435      0.000     425.898     684.661\n",
      "bp           269.6756     62.383      4.323      0.000     147.068     392.283\n",
      "hdl         -193.9536     61.922     -3.132      0.002    -315.656     -72.251\n",
      "ltg          484.9791     66.684      7.273      0.000     353.918     616.041\n",
      "==============================================================================\n",
      "Omnibus:                        8.786   Durbin-Watson:                   1.970\n",
      "Prob(Omnibus):                  0.012   Jarque-Bera (JB):                5.861\n",
      "Skew:                           0.133   Prob(JB):                       0.0534\n",
      "Kurtosis:                       2.503   Cond. No.                         29.2\n",
      "==============================================================================\n",
      "\n",
      "Notes:\n",
      "[1] Standard Errors assume that the covariance matrix of the errors is correctly specified.\n"
     ]
    }
   ],
   "source": [
    "\"\"\"\n",
    "\n",
    "And nowe we're starting to see a dip in our explained variance, so our best\n",
    "model is probably the previous regression we ran, if we're only using \n",
    "multiple linear regression.\n",
    "\n",
    "\"\"\"\n",
    "\n",
    "\n",
    "# Re run the multiple regression\n",
    "MultipleRegressions(x, y)"
   ]
  }
 ],
 "metadata": {
  "kernelspec": {
   "display_name": "Python 3",
   "language": "python",
   "name": "python3"
  },
  "language_info": {
   "codemirror_mode": {
    "name": "ipython",
    "version": 3
   },
   "file_extension": ".py",
   "mimetype": "text/x-python",
   "name": "python",
   "nbconvert_exporter": "python",
   "pygments_lexer": "ipython3",
   "version": "3.8.3"
  }
 },
 "nbformat": 4,
 "nbformat_minor": 4
}
