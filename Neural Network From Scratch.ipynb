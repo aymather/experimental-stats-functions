{
 "cells": [
  {
   "cell_type": "code",
   "execution_count": 47,
   "metadata": {},
   "outputs": [],
   "source": [
    "import numpy as np\n",
    "import random\n",
    "random.seed(0)"
   ]
  },
  {
   "cell_type": "code",
   "execution_count": 35,
   "metadata": {},
   "outputs": [
    {
     "name": "stdout",
     "output_type": "stream",
     "text": [
      "2.3\n"
     ]
    }
   ],
   "source": [
    "\"\"\"\n",
    "First we have 3 sensors, or 3 pieces of input data.\n",
    "We have 3 weights which represent the connections from the previous sensors to the current neuron.\n",
    "And finally we have the bias of the current neuron.\n",
    "\"\"\"\n",
    "inputs = [1, 2, 3, 2.5] # sensor / input to the neuron\n",
    "weights = [0.2, 0.8, -0.5, 1.0] # weight / represents relationship between previous neuron and current neuron\n",
    "bias = 2 # bias / current neuron unique bias / similar to y intercept\n",
    "\n",
    "# Output to this function is very similar to y = mx + b\n",
    "# OR: y_pred = b0 + b1 * x1 + b2 * x2 + ... + bn * xn\n",
    "output = inputs[0] * weights[0] + inputs[1] * weights[1] + inputs[2] * weights[2] + bias\n",
    "print(output)"
   ]
  },
  {
   "cell_type": "code",
   "execution_count": 36,
   "metadata": {},
   "outputs": [
    {
     "name": "stdout",
     "output_type": "stream",
     "text": [
      "4.8\n",
      "1.21\n",
      "3.465\n",
      "[4.8   1.21  3.465]\n"
     ]
    }
   ],
   "source": [
    "\"\"\"\n",
    "Now we are working within a \"layer\" because we have 3 biases which represent the 3 different neurons in our\n",
    "current layer.\n",
    "We also have a new dimension of weights which represent the connections between the previous layer, and our\n",
    "current layer of neurons.\n",
    "Finally, we still have 3 sensors of input information.\n",
    "\"\"\"\n",
    "inputs = [1, 2, 3, 2.5]\n",
    "weights = [\n",
    "    [0.2, 0.8, -0.5, 1.0],\n",
    "    [0.5, -0.91, 0.26, -0.5],\n",
    "    [-0.26, 0.27, 0.17, 0.87]\n",
    "]\n",
    "biases = [2, 3, 0.5]\n",
    "\n",
    "# Now we need to do some matrix multiplication in order to find the dot product of this equation.\n",
    "# We are also going to have 3 different outputs because we have 3 neurons in this layer.\n",
    "\n",
    "# Same process as before, sum the input*weight values of the neurons in the later before it.\n",
    "# Between neurons in the current layer, the weights will change, but the input values will not.\n",
    "\n",
    "# Neuron 1\n",
    "output1 = inputs[0] * weights[0][0] + \\\n",
    "          inputs[1] * weights[0][1] + \\\n",
    "          inputs[2] * weights[0][2] + \\\n",
    "          inputs[3] * weights[0][3] + biases[0]\n",
    "\n",
    "output2 = inputs[0] * weights[1][0] + \\\n",
    "          inputs[1] * weights[1][1] + \\\n",
    "          inputs[2] * weights[1][2] + \\\n",
    "          inputs[3] * weights[1][3] + biases[1]\n",
    "\n",
    "output3 = inputs[0] * weights[2][0] + \\\n",
    "          inputs[1] * weights[2][1] + \\\n",
    "          inputs[2] * weights[2][2] + \\\n",
    "          inputs[3] * weights[2][3] + biases[2]\n",
    "\n",
    "# To demonstrate matrix multiplication much faster with numpy\n",
    "o = np.dot(weights, inputs) + biases\n",
    "\n",
    "# Output\n",
    "print(output1)\n",
    "print(output2)\n",
    "print(output3)\n",
    "print(o)"
   ]
  },
  {
   "cell_type": "code",
   "execution_count": 42,
   "metadata": {},
   "outputs": [
    {
     "name": "stdout",
     "output_type": "stream",
     "text": [
      "[[ 4.8    1.21   2.385]\n",
      " [ 8.9   -1.81   0.2  ]\n",
      " [ 1.41   1.051  0.026]]\n"
     ]
    }
   ],
   "source": [
    "\"\"\"\n",
    "Now lets keep 3 neurons in our current layer, but let's turn our sensors into a vector instead\n",
    "of a scalar integer.\n",
    "\"\"\"\n",
    "inputs = [\n",
    "    [1, 2, 3, 2.5],\n",
    "    [2.0, 5.0, -1.0, 2.0],\n",
    "    [-1.5, 2.7, 3.3, -0.8]\n",
    "]\n",
    "weights = [\n",
    "    [0.2, 0.8, -0.5, 1.0],\n",
    "    [0.5, -0.91, 0.26, -0.5],\n",
    "    [-0.26, -0.27, 0.17, 0.87]\n",
    "]\n",
    "biases = [2, 3, 0.5]\n",
    "\n",
    "# Use numpy to go faster\n",
    "\n",
    "# First we need to transpose weights\n",
    "weights = np.array(weights).T\n",
    "o = np.dot(inputs, weights) + biases\n",
    "print(o)"
   ]
  },
  {
   "cell_type": "code",
   "execution_count": 68,
   "metadata": {},
   "outputs": [
    {
     "name": "stdout",
     "output_type": "stream",
     "text": [
      "[[-0.18399827 -1.99024851  0.69354262 -0.09421036]\n",
      " [-2.5994556  -0.74798696  2.53502616  0.19123692]\n",
      " [ 0.5150805  -0.50874134 -0.19974177 -1.14060241]]\n"
     ]
    }
   ],
   "source": [
    "\"\"\"\n",
    "Let's turn our layer into an object to make things more simple.\n",
    "\n",
    "A layer gets initialized with 2 important inputs:\n",
    "\n",
    "1. The number of inputs / neurons connected to this layer\n",
    "   It is important to remember that if you're getting inputs from another layer,\n",
    "   it must match the number of neurons in that previous layer.\n",
    "   \n",
    "2. The number of neurons in this layer\n",
    "   You can put as many neurons as you want in this layer.\n",
    "\n",
    "\"\"\"\n",
    "class Layer_Dense:\n",
    "    def __init__(self, n_inputs, n_neurons):\n",
    "        self.weights = 0.3 * np.random.randn(n_inputs, n_neurons)\n",
    "        self.biases = np.zeros((1, n_neurons))\n",
    "    def forward(self, inputs):\n",
    "        self.output = np.dot(inputs, self.weights) + self.biases\n",
    "    \n",
    "layer1 = Layer_Dense(4, 4)\n",
    "layer1.forward(inputs)\n",
    "print(layer1.output)"
   ]
  }
 ],
 "metadata": {
  "kernelspec": {
   "display_name": "Python 3",
   "language": "python",
   "name": "python3"
  },
  "language_info": {
   "codemirror_mode": {
    "name": "ipython",
    "version": 3
   },
   "file_extension": ".py",
   "mimetype": "text/x-python",
   "name": "python",
   "nbconvert_exporter": "python",
   "pygments_lexer": "ipython3",
   "version": "3.8.3"
  }
 },
 "nbformat": 4,
 "nbformat_minor": 4
}
