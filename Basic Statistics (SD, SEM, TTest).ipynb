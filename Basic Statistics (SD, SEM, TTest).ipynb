{
 "cells": [
  {
   "cell_type": "code",
   "execution_count": 2,
   "metadata": {},
   "outputs": [],
   "source": [
    "import math\n",
    "import statistics"
   ]
  },
  {
   "cell_type": "code",
   "execution_count": 3,
   "metadata": {},
   "outputs": [],
   "source": [
    "# Sample data to measure the effect of caffine on muscle metabolism\n",
    "placebo = [\n",
    "    105,\n",
    "    119,\n",
    "    100,\n",
    "    97,\n",
    "    96,\n",
    "    101,\n",
    "    94,\n",
    "    95,\n",
    "    98\n",
    "]\n",
    "\n",
    "caffine = [\n",
    "    96,\n",
    "    99,\n",
    "    94,\n",
    "    89,\n",
    "    96,\n",
    "    93,\n",
    "    88,\n",
    "    105,\n",
    "    88\n",
    "]"
   ]
  },
  {
   "cell_type": "code",
   "execution_count": 4,
   "metadata": {},
   "outputs": [],
   "source": [
    "# Functions\n",
    "\n",
    "# Calculate the mean value of an array\n",
    "def mean(array):\n",
    "    \"\"\"\n",
    "    Standard mean calculation by dividing the sum of a sample\n",
    "    by the number of samples\n",
    "         ∑x\n",
    "    m = -----\n",
    "          N\n",
    "    \n",
    "    x = resulting mean\n",
    "    ∑x = sum of all values in sample.\n",
    "    N = number of samples\n",
    "    \"\"\"\n",
    "    N = len(array)\n",
    "    x = sum(array)\n",
    "    return x / N\n",
    "\n",
    "# Variance\n",
    "def var(array):\n",
    "    \"\"\"\n",
    "    The variance is a number (often denoted as \"s\") that \n",
    "    describes the spread of the data in square units.\n",
    "    \n",
    "    To get the variance, you need to sum the result of subtracting the mean from\n",
    "    each item in your sample and squaring it.\n",
    "    \n",
    "    s^2 | õ^2 = ∑(x - M)^2\n",
    "    \n",
    "    This article explains how we get this \n",
    "    equation really well: https://www.thoughtco.com/variance-and-standard-deviation-p2-3126243\n",
    "    \"\"\"\n",
    "    m = mean(array)\n",
    "    return sum([math.pow(i - m, 2) for i in array])\n",
    "\n",
    "# Standard Deviation of Population Mean\n",
    "def sd_population(array):\n",
    "    \"\"\"\n",
    "    Calculates the standard deviation of a population from the mean.\n",
    "    \n",
    "    õ = √(1/N) * s^2\n",
    "    \n",
    "    õ = resulting standard deviation\n",
    "    s^2 = variance of population\n",
    "    N = number of samples in population\n",
    "    \n",
    "    Why do we square/square root back? https://www.mathsisfun.com/data/standard-deviation.html\n",
    "    \"\"\" \n",
    "    N = len(array) # number of samples in population\n",
    "    s = var(array) # variance\n",
    "    return math.sqrt(s / N)\n",
    "\n",
    "# Standard Deviation of Sample Mean (Bessel's Correction)\n",
    "def sd_sample(array):\n",
    "    \"\"\"\n",
    "    There are 2 differences between this function and sd_population.\n",
    "    \n",
    "    1. We correct the N (number of samples) by subtracting 1 (n - 1). The reason for this\n",
    "       is to correct for the deviation from the mean in the true population. This\n",
    "       video explains the theory behind it well: https://www.youtube.com/watch?v=ANsVodOu1Tg\n",
    "    \n",
    "    2. The second difference is theoretical. That is that we acknowledge that the \n",
    "       mean calculated from this sample is a statistic, not a parameter, which is part\n",
    "       of the reason why we performed the correction in #1. The sample mean is usually\n",
    "       denoted by X-hat. However, this is a theoretical difference,\n",
    "       and does not actually change the equation.\n",
    "    \"\"\"\n",
    "    n = len(array) - 1 # corrected n\n",
    "    s = var(array) # variance\n",
    "    return math.sqrt(s / n)\n",
    "\n",
    "# Standard Deviation of Pooled Samples\n",
    "def sd_pooled(array_1, array_2):\n",
    "    \"\"\"\n",
    "    Standard deviation of pooled samples to find the collective standard\n",
    "    deviation.\n",
    "    \n",
    "    This video explains pooled SD pretty well: https://www.youtube.com/watch?v=xsltS41PZW0\n",
    "    \n",
    "                      (n1 - 1)s1^2 + (n2 - 1)s2^2 + ... (nk - 1)sk^2\n",
    "    SD_pooled =  √ (----------------------------------------------------)\n",
    "                                    n1 + n2 + ... nk - k\n",
    "                                    \n",
    "    n = number of samples within sample group\n",
    "    s = variance of sample group\n",
    "    k = number of sample groups\n",
    "    \"\"\"\n",
    "    s1 = sd_sample(array_1) # Standard Deviation of sample 1\n",
    "    s2 = sd_sample(array_2) # Standard Deviation of sample 2\n",
    "    \n",
    "    n1 = len(array_1) # number of samples in sample 1\n",
    "    n2 = len(array_2) # number of samples in sample 2\n",
    "    \n",
    "    sd1 = (n1 - 1) * math.pow(s1, 2)\n",
    "    sd2 = (n2 - 1) * math.pow(s2, 2)\n",
    "    \n",
    "    k = 2 # number of sample groups\n",
    "    \n",
    "    return math.sqrt((sd1 + sd2) / (n1 + n2 - k))\n",
    "    \n",
    "\n",
    "# Standard Error of the Mean\n",
    "def sem(array):\n",
    "    \"\"\"\n",
    "    The SEM is the distance between the population mean (the real mean) and\n",
    "    the sample mean (a subset of the population). Meaning that if the population mean is 10,\n",
    "    and the sample mean is 10.5, then the SEM is 0.5\n",
    "    \n",
    "    The SEM is inversely proportional to the sample population. The larger the sample, \n",
    "    the closer to the real mean the sample population will be. Meaning that as you \n",
    "    collect more data, your mean will get closer and closer to the true mean, and your\n",
    "    SEM will shrink closer to zero. Bigger sample = smaller SEM\n",
    "    \n",
    "    SEM is an estimate, NOT the actual distance between the population and sample means.\n",
    "    \n",
    "    Another way of saying it is, the degree to which the sample mean is likely to vary\n",
    "    from the true population mean.\n",
    "    \"\"\"\n",
    "    o = sd_sample(array) # SE (Standard Error)\n",
    "    n = len(array) # sample size\n",
    "    return o / math.sqrt(n)\n",
    "\n",
    "# Pooled variance of more than 1 sample\n",
    "def variance_pooled(array_1, array_2):\n",
    "    \"\"\"\n",
    "    Calculates an estimator for the pooled variance of two difference samples.\n",
    "    \n",
    "                              ∑(x1 - X1)^2 + ∑(x2 - X2)^2      s1^2 + s2^2\n",
    "    s^2 pooled | õ^2 pooled = ---------------------------  = ---------------\n",
    "                                      n1 + n2 - 2              n1 + n2 - 2\n",
    "    \n",
    "    \"\"\"\n",
    "    dof = len(array_1) + len(array_2) - 2 # Degrees of freedom\n",
    "    var_1 = var(array_1) # variance of sample 1\n",
    "    var_2 = var(array_2) # variance of sample 2\n",
    "    return (var_1 + var_2) / dof\n",
    "    \n",
    "\n",
    "# T-Test\n",
    "def ttest(array_1, array_2):\n",
    "    \"\"\"\n",
    "    Independent samples ttest. Compares the means of two independent samples\n",
    "    to give you a t value.\n",
    "        \n",
    "                 m1 - m2\n",
    "    t = -------------------------\n",
    "         √(s^2 / n1) + (s^2 / n2)\n",
    "         \n",
    "    t = The resulting t value\n",
    "    m1 = mean of sample 1\n",
    "    m2 = mean of sample 2\n",
    "    s^2 = pooled variance of both samples\n",
    "    n1 = number of samples in sample 1\n",
    "    n2 = number of samples in sample 2\n",
    "    \n",
    "    \"\"\"\n",
    "    m1 = mean(array_1)\n",
    "    m2 = mean(array_2)\n",
    "    s = variance_pooled(array_1, array_2)\n",
    "    n1 = len(array_1)\n",
    "    n2 = len(array_2)\n",
    "    t = (m1 - m2) / math.sqrt((s / n1) + (s / n2))\n",
    "    \n",
    "    dof = len(array_1) + len(array_2) - 2\n",
    "    \n",
    "    return t\n",
    "    "
   ]
  },
  {
   "cell_type": "code",
   "execution_count": 5,
   "metadata": {},
   "outputs": [
    {
     "name": "stdout",
     "output_type": "stream",
     "text": [
      "Placebo mean: 100.55555555555556\n",
      "Caffine mean: 94.22222222222223\n"
     ]
    }
   ],
   "source": [
    "print(\"Placebo mean: {}\".format(mean(placebo)))\n",
    "print(\"Caffine mean: {}\".format(mean(caffine)))"
   ]
  },
  {
   "cell_type": "code",
   "execution_count": 6,
   "metadata": {},
   "outputs": [
    {
     "name": "stdout",
     "output_type": "stream",
     "text": [
      "Placebo standard deviation corrected: 7.699206308300732\n",
      "Caffine standard deviation corrected: 5.607534613753574\n"
     ]
    }
   ],
   "source": [
    "print(\"Placebo standard deviation corrected: {}\".format(sd_sample(placebo)))\n",
    "print(\"Caffine standard deviation corrected: {}\".format(sd_sample(caffine)))"
   ]
  },
  {
   "cell_type": "code",
   "execution_count": 7,
   "metadata": {},
   "outputs": [
    {
     "name": "stdout",
     "output_type": "stream",
     "text": [
      "SEM of placebo: 2.5664021027669106\n",
      "SEM of caffine: 1.8691782045845249\n"
     ]
    }
   ],
   "source": [
    "print(\"SEM of placebo: {}\".format(sem(placebo)))\n",
    "print(\"SEM of caffine: {}\".format(sem(caffine)))"
   ]
  },
  {
   "cell_type": "code",
   "execution_count": 9,
   "metadata": {},
   "outputs": [
    {
     "name": "stdout",
     "output_type": "stream",
     "text": [
      "Variance of placebo: 474.22222222222223\n",
      "Variance of caffine: 251.55555555555557\n",
      "Pooled variance of both samples: 45.361111111111114\n"
     ]
    }
   ],
   "source": [
    "print(\"Variance of placebo: {}\".format(var(placebo)))\n",
    "print(\"Variance of caffine: {}\".format(var(caffine)))\n",
    "print(\"Pooled variance of both samples: {}\".format(variance_pooled(placebo, caffine)))"
   ]
  },
  {
   "cell_type": "code",
   "execution_count": 49,
   "metadata": {},
   "outputs": [
    {
     "name": "stdout",
     "output_type": "stream",
     "text": [
      "T Value: 1.9947880650265368\n",
      "DoF: 16\n"
     ]
    }
   ],
   "source": [
    "print(\"T Value: {}\".format(ttest(placebo, caffine)))\n",
    "print(\"DoF: {}\".format(len(placebo) + len(caffine) - 2))"
   ]
  },
  {
   "cell_type": "code",
   "execution_count": 47,
   "metadata": {},
   "outputs": [
    {
     "name": "stdout",
     "output_type": "stream",
     "text": [
      "6.735065783725584\n"
     ]
    }
   ],
   "source": [
    "print(sd_pooled(placebo, caffine))"
   ]
  },
  {
   "cell_type": "code",
   "execution_count": 48,
   "metadata": {},
   "outputs": [],
   "source": [
    "d1 = [10.59964, 11.52049, 10.8061, 11.01245]\n",
    "d2 = [13.1775, 13.52363, 14.35686]\n",
    "d3 = [12.76157, 11.98296, 11.71126, 11.92767, 11.91558]\n",
    "d4 = [10.645, 11.034]"
   ]
  },
  {
   "cell_type": "code",
   "execution_count": 18,
   "metadata": {},
   "outputs": [
    {
     "name": "stdout",
     "output_type": "stream",
     "text": [
      "0.39497263474828215\n",
      "0.6062134139338494\n",
      "0.40562402390637603\n",
      "0.27506453788156776\n"
     ]
    }
   ],
   "source": [
    "s1 = sd_sample(d1)\n",
    "s2 = sd_sample(d2)\n",
    "s3 = sd_sample(d3)\n",
    "s4 = sd_sample(d4)\n",
    "print(s1)\n",
    "print(s2)\n",
    "print(s3)\n",
    "print(s4)"
   ]
  },
  {
   "cell_type": "code",
   "execution_count": 29,
   "metadata": {},
   "outputs": [
    {
     "name": "stdout",
     "output_type": "stream",
     "text": [
      "0.4905098476211594\n"
     ]
    }
   ],
   "source": [
    "print(sd_pooled(d1, d2))"
   ]
  }
 ],
 "metadata": {
  "kernelspec": {
   "display_name": "Python 3",
   "language": "python",
   "name": "python3"
  },
  "language_info": {
   "codemirror_mode": {
    "name": "ipython",
    "version": 3
   },
   "file_extension": ".py",
   "mimetype": "text/x-python",
   "name": "python",
   "nbconvert_exporter": "python",
   "pygments_lexer": "ipython3",
   "version": "3.8.3"
  }
 },
 "nbformat": 4,
 "nbformat_minor": 4
}
